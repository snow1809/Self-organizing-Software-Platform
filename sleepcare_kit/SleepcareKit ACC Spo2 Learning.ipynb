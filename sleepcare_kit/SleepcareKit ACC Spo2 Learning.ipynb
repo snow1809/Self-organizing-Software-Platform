{
 "cells": [
  {
   "cell_type": "code",
   "execution_count": 31,
   "metadata": {},
   "outputs": [],
   "source": [
    "import numpy as np\n",
    "import csv\n",
    "from sklearn.neighbors import KNeighborsClassifier\n",
    "\n",
    "header = [ 'x', 'y', 'z', 'level']"
   ]
  },
  {
   "cell_type": "code",
   "execution_count": 33,
   "metadata": {},
   "outputs": [],
   "source": [
    "data0 = np.loadtxt(\"C:\\\\Users\\Jeon-Lab\\Documents\\Tensorflow_workspace\\\\acc_data_level0.csv\", delimiter=\",\", dtype=np.float32 )\n",
    "data1 = np.loadtxt(\"C:\\\\Users\\Jeon-Lab\\Documents\\Tensorflow_workspace\\\\acc_data_level1.csv\", delimiter=\",\", dtype=np.float32 )\n",
    "data2 = np.loadtxt(\"C:\\\\Users\\Jeon-Lab\\Documents\\Tensorflow_workspace\\\\acc_data_level2.csv\", delimiter=\",\", dtype=np.float32 )\n",
    "data3 = np.loadtxt(\"C:\\\\Users\\Jeon-Lab\\Documents\\Tensorflow_workspace\\\\acc_data_level3.csv\", delimiter=\",\", dtype=np.float32 )\n",
    "data4 = np.loadtxt(\"C:\\\\Users\\Jeon-Lab\\Documents\\Tensorflow_workspace\\\\acc_data_level4.csv\", delimiter=\",\", dtype=np.float32 )\n",
    "data5 = np.loadtxt(\"C:\\\\Users\\Jeon-Lab\\Documents\\Tensorflow_workspace\\\\acc_data_level5.csv\", delimiter=\",\", dtype=np.float32 )\n",
    "\n",
    "training_xyz_0 = data0[:8000, 0:-1]\n",
    "training_xyz_1 = data1[:8000, 0:-1]\n",
    "training_xyz_2 = data2[:8000, 0:-1]\n",
    "training_xyz_3 = data3[:8000, 0:-1]\n",
    "training_xyz_4 = data4[:8000, 0:-1]\n",
    "training_xyz_5 = data5[:8000, 0:-1]\n",
    "\n",
    "training_lv_0 = data0[:8000,-1]\n",
    "training_lv_1 = data1[:8000,-1]\n",
    "training_lv_2 = data2[:8000,-1]\n",
    "training_lv_3 = data3[:8000,-1]\n",
    "training_lv_4 = data4[:8000,-1]\n",
    "training_lv_5 = data5[:8000,-1]\n",
    "\n",
    "test_xyz_0 = data0[8000:10000, 0:-1]\n",
    "test_xyz_1 = data1[8000:10000, 0:-1]\n",
    "test_xyz_2 = data2[8000:10000, 0:-1]\n",
    "test_xyz_3 = data3[8000:10000, 0:-1]\n",
    "test_xyz_4 = data4[8000:10000, 0:-1]\n",
    "test_xyz_5 = data5[8000:10000, 0:-1]\n",
    "\n",
    "test_lv_0 = data0[8000:10000,-1]\n",
    "test_lv_1 = data1[8000:10000,-1]\n",
    "test_lv_2 = data2[8000:10000,-1]\n",
    "test_lv_3 = data3[8000:10000,-1]\n",
    "test_lv_4 = data4[8000:10000,-1]\n",
    "test_lv_5 = data5[8000:10000,-1]\n"
   ]
  },
  {
   "cell_type": "code",
   "execution_count": 87,
   "metadata": {},
   "outputs": [],
   "source": [
    "train_x=np.concatenate((training_xyz_0,training_xyz_1),axis=0)\n",
    "train_x=np.concatenate((train_x,training_xyz_2),axis=0)\n",
    "train_x=np.concatenate((train_x,training_xyz_3),axis=0)\n",
    "train_x=np.concatenate((train_x,training_xyz_4),axis=0)\n",
    "train_x=np.concatenate((train_x,training_xyz_5),axis=0)\n",
    "\n",
    "train_y=np.concatenate((training_lv_0,training_lv_1),axis=0)\n",
    "train_y=np.concatenate((train_y,training_lv_2),axis=0)\n",
    "train_y=np.concatenate((train_y,training_lv_3),axis=0)\n",
    "train_y=np.concatenate((train_y,training_lv_4),axis=0)\n",
    "train_y=np.concatenate((train_y,training_lv_5),axis=0)\n",
    "\n",
    "test_x=np.concatenate((test_xyz_0,test_xyz_1),axis=0)\n",
    "test_x=np.concatenate((test_x,test_xyz_2),axis=0)\n",
    "test_x=np.concatenate((test_x,test_xyz_3),axis=0)\n",
    "test_x=np.concatenate((test_x,test_xyz_4),axis=0)\n",
    "test_x=np.concatenate((test_x,test_xyz_5),axis=0)\n",
    "\n",
    "\n",
    "test_y=np.concatenate((test_lv_0,test_lv_1),axis=0)\n",
    "test_y=np.concatenate((test_y,test_lv_2),axis=0)\n",
    "test_y=np.concatenate((test_y,test_lv_3),axis=0)\n",
    "test_y=np.concatenate((test_y,test_lv_4),axis=0)\n",
    "test_y=np.concatenate((test_y,test_lv_5),axis=0)\n"
   ]
  },
  {
   "cell_type": "code",
   "execution_count": 88,
   "metadata": {},
   "outputs": [],
   "source": [
    "shuffle_index = np.random.permutation(48000)\n",
    "train_x,train_y=train_x[shuffle_index],train_y[shuffle_index]\n",
    "\n",
    "shuffle_index = np.random.permutation(12000)\n",
    "test_x,test_y=test_x[shuffle_index],test_y[shuffle_index]\n",
    "\n",
    "from sklearn.linear_model import SGDClassifier\n",
    "sgd_clf = SGDClassifier(alpha=0.01, average=False, class_weight=None, epsilon=0.1,\n",
    "       eta0=0.0, fit_intercept=True, l1_ratio=0.15,\n",
    "       learning_rate='optimal', loss='hinge', max_iter=None, n_iter=1000,\n",
    "       n_jobs=1, penalty='l2', power_t=0.5, random_state=None,\n",
    "       shuffle=True, tol=None, verbose=0, warm_start=False)\n"
   ]
  },
  {
   "cell_type": "code",
   "execution_count": 81,
   "metadata": {},
   "outputs": [
    {
     "name": "stdout",
     "output_type": "stream",
     "text": [
      "correct/total=%d/%d = %d 5967 12000 0.49725\n"
     ]
    },
    {
     "data": {
      "text/plain": [
       "array([0.74385417, 0.74614583, 0.7378125 , 0.74875   , 0.7471875 ])"
      ]
     },
     "execution_count": 81,
     "metadata": {},
     "output_type": "execute_result"
    }
   ],
   "source": [
    "sgd_clf.fit(train_x, train_y)\n",
    "\n",
    "sgd_clf.predict([test_x[0]])\n",
    "\n",
    "count=0\n",
    "for i  in range(len(test_x)):\n",
    "    #sgd_clf.predict([test_x[i]])\n",
    "    #print(sgd_clf.predict([test_x[i]]))\n",
    "    if(sgd_clf.predict([test_x[i]])==test_y[i] ):\n",
    "        #print(test_y[i])\n",
    "        count=count+1\n",
    "print(\"correct/total=%d/%d = %d\",count,len(test_y),count/len(test_y))\n",
    "\n",
    "from sklearn.model_selection import cross_val_score\n",
    "cross_val_score( sgd_clf, train_x, train_y, cv=5, scoring=\"accuracy\")"
   ]
  },
  {
   "cell_type": "code",
   "execution_count": 82,
   "metadata": {},
   "outputs": [
    {
     "name": "stdout",
     "output_type": "stream",
     "text": [
      "[0.] 4.0\n",
      "[0.] 4.0\n",
      "[0.] 4.0\n",
      "[0.] 1.0\n",
      "[0.] 4.0\n",
      "[0.] 4.0\n",
      "[0.] 4.0\n",
      "[0.] 4.0\n",
      "[0.] 1.0\n",
      "[0.] 4.0\n",
      "[0.] 1.0\n",
      "[0.] 1.0\n",
      "[0.] 1.0\n",
      "[0.] 4.0\n",
      "[0.] 4.0\n",
      "[0.] 1.0\n",
      "[0.] 4.0\n",
      "[0.] 4.0\n",
      "[0.] 4.0\n",
      "[0.] 4.0\n",
      "[0.] 4.0\n",
      "[0.] 4.0\n",
      "[0.] 4.0\n",
      "[0.] 4.0\n",
      "[0.] 4.0\n",
      "[0.] 4.0\n",
      "[0.] 4.0\n",
      "[0.] 4.0\n",
      "[0.] 4.0\n",
      "[0.] 1.0\n",
      "[0.] 1.0\n",
      "[0.] 4.0\n",
      "[0.] 4.0\n",
      "[0.] 4.0\n",
      "[0.] 4.0\n",
      "[0.] 1.0\n",
      "[0.] 4.0\n",
      "[0.] 1.0\n",
      "[0.] 4.0\n",
      "[0.] 1.0\n",
      "[0.] 4.0\n",
      "[0.] 4.0\n",
      "[0.] 4.0\n",
      "[0.] 1.0\n",
      "[0.] 4.0\n",
      "[0.] 5.0\n",
      "[0.] 4.0\n",
      "[0.] 1.0\n",
      "[0.] 4.0\n",
      "[0.] 4.0\n",
      "[0.] 4.0\n",
      "[0.] 1.0\n",
      "[0.] 4.0\n",
      "[0.] 4.0\n",
      "[0.] 1.0\n",
      "[0.] 4.0\n",
      "correct/total=%d/%d = %d 11944 12000 0.9953333333333333\n"
     ]
    }
   ],
   "source": [
    "sgd_clf.fit(train_x, train_y)\n",
    "\n",
    "sgd_clf.predict([test_x[0]])\n",
    "\n",
    "count=0\n",
    "for i  in range(len(test_x)):\n",
    "    #sgd_clf.predict([test_x[i]])\n",
    "    #print(sgd_clf.predict([test_x[i]]))\n",
    "    if(sgd_clf.predict([test_x[i]])==0):\n",
    "        if(test_y[i]==0):\n",
    "            count=count+1\n",
    "        else:\n",
    "            print(sgd_clf.predict([test_x[i]]), test_y[i])\n",
    "    else:\n",
    "        if(test_y[i]!=0):\n",
    "            count=count+1\n",
    "        else:\n",
    "            print(sgd_clf.predict([test_x[i]]), test_y[i])\n",
    "        #print(test_y[i])\n",
    "        #count=count+1\n",
    "print(\"correct/total=%d/%d = %d\",count,len(test_y),count/len(test_y))"
   ]
  },
  {
   "cell_type": "code",
   "execution_count": 89,
   "metadata": {},
   "outputs": [
    {
     "data": {
      "text/plain": [
       "KNeighborsClassifier(algorithm='auto', leaf_size=30, metric='minkowski',\n",
       "           metric_params=None, n_jobs=None, n_neighbors=5, p=2,\n",
       "           weights='uniform')"
      ]
     },
     "execution_count": 89,
     "metadata": {},
     "output_type": "execute_result"
    }
   ],
   "source": [
    "from sklearn.neighbors import KNeighborsClassifier\n",
    "knn_clf = KNeighborsClassifier()\n",
    "knn_clf.fit(train_x,train_y)"
   ]
  },
  {
   "cell_type": "code",
   "execution_count": 90,
   "metadata": {},
   "outputs": [
    {
     "name": "stdout",
     "output_type": "stream",
     "text": [
      "correct/total=%d/%d = %d 8530 12000 0.7108333333333333\n"
     ]
    },
    {
     "data": {
      "text/plain": [
       "array([0.8634375 , 0.85072917, 0.85239583, 0.83604167, 0.8621875 ])"
      ]
     },
     "execution_count": 90,
     "metadata": {},
     "output_type": "execute_result"
    }
   ],
   "source": [
    "count=0\n",
    "for i  in range(len(test_x)):\n",
    "    #sgd_clf.predict([test_x[i]])\n",
    "    #print(sgd_clf.predict([test_x[i]]))\n",
    "    if(knn_clf.predict([test_x[i]])==test_y[i] ):\n",
    "        #print(test_y[i])\n",
    "        count=count+1\n",
    "print(\"correct/total=%d/%d = %d\",count,len(test_y),count/len(test_y))\n",
    "\n",
    "cross_val_score( knn_clf, train_x, train_y, cv=5, scoring=\"accuracy\")"
   ]
  },
  {
   "cell_type": "code",
   "execution_count": 91,
   "metadata": {},
   "outputs": [
    {
     "name": "stdout",
     "output_type": "stream",
     "text": [
      "[0.] 1.0\n",
      "[0.] 1.0\n",
      "[0.] 1.0\n",
      "[0.] 1.0\n",
      "[0.] 1.0\n",
      "[0.] 1.0\n",
      "[0.] 1.0\n",
      "[0.] 1.0\n",
      "correct/total=%d/%d = %d 11992 12000 0.9993333333333333\n"
     ]
    }
   ],
   "source": [
    "knn_clf = KNeighborsClassifier()\n",
    "knn_clf.fit(train_x,train_y)\n",
    "\n",
    "count=0\n",
    "for i  in range(len(test_x)):\n",
    "    #sgd_clf.predict([test_x[i]])\n",
    "    #print(sgd_clf.predict([test_x[i]]))\n",
    "    if(knn_clf.predict([test_x[i]])==0):\n",
    "        if(test_y[i]==0):\n",
    "            count=count+1\n",
    "        else:\n",
    "            print(knn_clf.predict([test_x[i]]), test_y[i])\n",
    "    else:\n",
    "        if(test_y[i]!=0):\n",
    "            count=count+1\n",
    "        else:\n",
    "            print(knn_clf.predict([test_x[i]]),test_y[i])\n",
    "        #print(test_y[i])\n",
    "        #count=count+1\n",
    "print(\"correct/total=%d/%d = %d\",count,len(test_y),count/len(test_y))"
   ]
  },
  {
   "cell_type": "code",
   "execution_count": null,
   "metadata": {},
   "outputs": [],
   "source": []
  }
 ],
 "metadata": {
  "kernelspec": {
   "display_name": "tensorflow",
   "language": "python",
   "name": "tensorflow"
  },
  "language_info": {
   "codemirror_mode": {
    "name": "ipython",
    "version": 3
   },
   "file_extension": ".py",
   "mimetype": "text/x-python",
   "name": "python",
   "nbconvert_exporter": "python",
   "pygments_lexer": "ipython3",
   "version": "3.6.7"
  }
 },
 "nbformat": 4,
 "nbformat_minor": 2
}
